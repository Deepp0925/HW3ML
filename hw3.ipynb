{
 "cells": [
  {
   "cell_type": "code",
   "execution_count": null,
   "metadata": {},
   "outputs": [],
   "source": [
    "# import pandas as pd and then use pd.read_csv to read this file into a data frame df. Answer the following questions based on the imported csv file.\n",
    "\n",
    "import pandas as pd\n",
    "\n",
    "# What is the OvertimePay obtained by the employee located at the 500 line?\n",
    "df = pd.read_csv('hw3Salaries.csv')\n",
    "df.iloc[500]['OvertimePay']\n"
   ]
  }
 ],
 "metadata": {
  "language_info": {
   "name": "python"
  },
  "orig_nbformat": 4
 },
 "nbformat": 4,
 "nbformat_minor": 2
}
